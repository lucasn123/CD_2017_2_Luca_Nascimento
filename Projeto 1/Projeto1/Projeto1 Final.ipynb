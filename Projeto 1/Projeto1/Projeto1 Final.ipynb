{
 "cells": [
  {
   "cell_type": "markdown",
   "metadata": {},
   "source": [
    "___\n",
    "# Ciência dos Dados - PROJETO 1"
   ]
  },
  {
   "cell_type": "markdown",
   "metadata": {},
   "source": [
    "## Luca Salimon Nascimento"
   ]
  },
  {
   "cell_type": "markdown",
   "metadata": {},
   "source": [
    "## Análise de dados de internet e tv em regiões do Brasil em 2013\n"
   ]
  },
  {
   "cell_type": "markdown",
   "metadata": {},
   "source": [
    "___\n",
    "## Introdução\n",
    "\n",
    "Analisei os dados de 2013 para comparar o acesso à internet e acesso à internet através da televisão nas regiões do Brasil em 2013, e descobri a porcentagem de Tvs finas que existem nas casas nas diferentes regiões.\n"
   ]
  },
  {
   "cell_type": "markdown",
   "metadata": {},
   "source": [
    "___\n",
    "## Análise e Resultados"
   ]
  },
  {
   "cell_type": "code",
   "execution_count": 58,
   "metadata": {
    "collapsed": true
   },
   "outputs": [],
   "source": [
    "%matplotlib inline\n",
    "import pandas as pd\n",
    "import matplotlib.pyplot as plt\n",
    "import numpy as np\n",
    "import os"
   ]
  },
  {
   "cell_type": "code",
   "execution_count": 59,
   "metadata": {
    "collapsed": false
   },
   "outputs": [
    {
     "name": "stdout",
     "output_type": "stream",
     "text": [
      "Esperamos trabalhar no diretório\n",
      "C:\\Users\\Luca\\Insper\\2° semestre\\Ciencia dos dados\\CD_2017_2_Luca_Nascimento\\Projeto 1\\Projeto1\n"
     ]
    }
   ],
   "source": [
    "print('Esperamos trabalhar no diretório')\n",
    "print(os.getcwd())"
   ]
  },
  {
   "cell_type": "code",
   "execution_count": 60,
   "metadata": {
    "collapsed": false
   },
   "outputs": [],
   "source": [
    "#Se usar o arquivo descompactado\n",
    "dados = pd.read_csv('DOM2013.csv',sep=',')\n",
    "#dados\n",
    "#Se usar o arquivo compactado como está no dropbox púbico\n",
    "#pd.read_csv('DOM2015csv.zip', compression='zip', header=0, sep=',', quotechar='\"')"
   ]
  },
  {
   "cell_type": "code",
   "execution_count": 61,
   "metadata": {
    "collapsed": false
   },
   "outputs": [],
   "source": [
    "dadosfinais = pd.DataFrame({\"tv_fina_em_casa\":dados['V02270'],\n",
    "                           \"tv_por_assinatura\":dados['V02272'],\n",
    "                          'internet': dados['V02322'],\n",
    "                         \"acesso_internet_pela_tv\": dados['V02326'],\n",
    "                           'domicilio': dados['V0201'],\n",
    "                           'regiao': dados['UF']})\n",
    "#dadosfinais"
   ]
  },
  {
   "cell_type": "code",
   "execution_count": 62,
   "metadata": {
    "collapsed": false
   },
   "outputs": [],
   "source": [
    "#dadosfinais[\"acesso a internet pela tv\"] =  dadosfinais[\"acesso a internet pela tv\"].astype('category')\n",
    "#dadosfinais[\"acesso a internet pela tv\"].cat.categories = ([\"Sim\", \"Não\"])\n",
    "dadosfinais.acesso_internet_pela_tv = dadosfinais.acesso_internet_pela_tv.astype('category')\n",
    "dadosfinais.acesso_internet_pela_tv.cat.categories = (['Sim','Não'])\n",
    "dadosfinais.internet = dadosfinais.internet.astype('category')\n",
    "dadosfinais.internet.cat.categories = (['Sim','Não'])\n",
    "dadosfinais.domicilio = dadosfinais.domicilio.astype('category')\n",
    "dadosfinais.domicilio.cat.categories = (['particular permanente','particular improvisado', 'coletivo'])\n",
    "dadosfinais.tv_por_assinatura = dadosfinais.tv_por_assinatura.astype('category')\n",
    "dadosfinais.tv_por_assinatura.cat.categories = (['Sim','Não'])\n",
    "\n",
    "#dadosfinais"
   ]
  },
  {
   "cell_type": "code",
   "execution_count": 63,
   "metadata": {
    "collapsed": false
   },
   "outputs": [],
   "source": [
    "dadosfinais = dadosfinais[(dadosfinais.domicilio == 'particular permanente')]\n",
    "#dadosfinais"
   ]
  },
  {
   "cell_type": "code",
   "execution_count": 64,
   "metadata": {
    "collapsed": false
   },
   "outputs": [],
   "source": [
    "dadosfinais = dadosfinais[pd.notnull(dadosfinais.domicilio) &\\\n",
    "                          pd.notnull(dadosfinais.internet) &\\\n",
    "                          pd.notnull(dadosfinais.acesso_internet_pela_tv) &\\\n",
    "                          pd.notnull(dadosfinais.tv_fina_em_casa) &\\\n",
    "                          pd.notnull(dadosfinais.tv_por_assinatura)]\n",
    "#dadosfinais"
   ]
  },
  {
   "cell_type": "code",
   "execution_count": 65,
   "metadata": {
    "collapsed": false,
    "scrolled": false
   },
   "outputs": [],
   "source": [
    "dadosnorte = dadosfinais[(dadosfinais.regiao == 11.0) | (dadosfinais.regiao == 12.0) | (dadosfinais.regiao == 13.0) | (dadosfinais.regiao == 14.0) | (dadosfinais.regiao == 15.0) | (dadosfinais.regiao == 16.0) | (dadosfinais.regiao == 17.0) ]\n",
    "#dadosnorte"
   ]
  },
  {
   "cell_type": "code",
   "execution_count": 66,
   "metadata": {
    "collapsed": false
   },
   "outputs": [],
   "source": [
    "dadossulsudeste = dadosfinais[(dadosfinais.regiao == 31.0) | (dadosfinais.regiao == 32.0) | (dadosfinais.regiao == 33.0) | (dadosfinais.regiao == 35.0) | (dadosfinais.regiao == 41.0) | (dadosfinais.regiao == 42.0) | (dadosfinais.regiao == 43.0)]\n",
    "#dadossulsudeste"
   ]
  },
  {
   "cell_type": "code",
   "execution_count": 67,
   "metadata": {
    "collapsed": false
   },
   "outputs": [],
   "source": [
    "dados_centro_oeste = dadosfinais[(dadosfinais.regiao == 50.0) | (dadosfinais.regiao == 51.0) | (dadosfinais.regiao == 52.0) | (dadosfinais.regiao == 53.0)]\n",
    "#dados_centro_oeste"
   ]
  },
  {
   "cell_type": "code",
   "execution_count": 68,
   "metadata": {
    "collapsed": false
   },
   "outputs": [],
   "source": [
    "dados_nordeste = dadosfinais[(dadosfinais.regiao == 21.0) | (dadosfinais.regiao == 22.0) | (dadosfinais.regiao == 23.0) | (dadosfinais.regiao == 24.0) | (dadosfinais.regiao == 25.0) | (dadosfinais.regiao == 26.0) | (dadosfinais.regiao == 27.0) | (dadosfinais.regiao == 28.0) | (dadosfinais.regiao == 29.0)]\n",
    "#dados_nordeste"
   ]
  },
  {
   "cell_type": "code",
   "execution_count": 69,
   "metadata": {
    "collapsed": false
   },
   "outputs": [
    {
     "data": {
      "image/png": "[encoded data removed]",
      "text/plain": [
       "<matplotlib.figure.Figure at 0x1d05cf0a8d0>"
      ]
     },
     "metadata": {},
     "output_type": "display_data"
    }
   ],
   "source": [
    "#Mostra quem tem acesso à internet através da Tv dos que tem acesso à internet em casa na região Nordeste na forma de Gráfico\n",
    "nt = pd.crosstab(dados_nordeste.internet, dados_nordeste.acesso_internet_pela_tv, normalize = True)*100\n",
    "grant = nt.plot(kind='bar', color =('blue', 'red','black','green'), legend=True)\n",
    "grant.grid(True)"
   ]
  },
  {
   "cell_type": "code",
   "execution_count": 70,
   "metadata": {
    "collapsed": false
   },
   "outputs": [
    {
     "data": {
      "image/png": "[encoded data removed]",
      "text/plain": [
       "<matplotlib.figure.Figure at 0x1d05cfa4a58>"
      ]
     },
     "metadata": {},
     "output_type": "display_data"
    }
   ],
   "source": [
    "#Mostra quem tem acesso à internet através da Tv dos que tem acesso à internet em casa na região Centro Oeste na forma de gráfico\n",
    "gt = pd.crosstab(dados_centro_oeste.internet, dados_centro_oeste.acesso_internet_pela_tv, normalize = True)*100\n",
    "grag = gt.plot(kind='bar', color =('blue', 'red','black','green'), legend=True)\n",
    "grag.grid(True)"
   ]
  },
  {
   "cell_type": "code",
   "execution_count": 71,
   "metadata": {
    "collapsed": false
   },
   "outputs": [
    {
     "data": {
      "image/png": "[encoded data removed]",
      "text/plain": [
       "<matplotlib.figure.Figure at 0x1d05cfb3ba8>"
      ]
     },
     "metadata": {},
     "output_type": "display_data"
    }
   ],
   "source": [
    "#Mostra quem tem acesso à internet através da Tv dos que tem acesso à internet em casa na região Norte na forma de gráfico\n",
    "ct = pd.crosstab(dadosnorte.internet, dadosnorte.acesso_internet_pela_tv, normalize = True)*100\n",
    "gra = ct.plot(kind='bar', color =('blue', 'red','black','green'), legend=True)\n",
    "gra.grid(True)"
   ]
  },
  {
   "cell_type": "code",
   "execution_count": 72,
   "metadata": {
    "collapsed": false
   },
   "outputs": [
    {
     "data": {
      "image/png": "[encoded data removed]",
      "text/plain": [
       "<matplotlib.figure.Figure at 0x1d05bd0b438>"
      ]
     },
     "metadata": {},
     "output_type": "display_data"
    }
   ],
   "source": [
    "#Mostra quem tem acesso à internet através da Tv dos que tem acesso à internet em casa na região Sul-Sudeste na forma de gráfico\n",
    "at = pd.crosstab(dadossulsudeste.internet, dadossulsudeste.acesso_internet_pela_tv, normalize = True)*100\n",
    "graf = at.plot(kind='bar', color =('blue', 'red','black','green'), legend=True)\n",
    "graf.grid(True)"
   ]
  },
  {
   "cell_type": "code",
   "execution_count": 73,
   "metadata": {
    "collapsed": false
   },
   "outputs": [
    {
     "data": {
      "text/html": [
       "<div>\n",
       "<table border=\"1\" class=\"dataframe\">\n",
       "  <thead>\n",
       "    <tr style=\"text-align: right;\">\n",
       "      <th>acesso_internet_pela_tv</th>\n",
       "      <th>Sim</th>\n",
       "      <th>Não</th>\n",
       "    </tr>\n",
       "    <tr>\n",
       "      <th>internet</th>\n",
       "      <th></th>\n",
       "      <th></th>\n",
       "    </tr>\n",
       "  </thead>\n",
       "  <tbody>\n",
       "    <tr>\n",
       "      <th>Sim</th>\n",
       "      <td>1.491117</td>\n",
       "      <td>98.508883</td>\n",
       "    </tr>\n",
       "    <tr>\n",
       "      <th>Não</th>\n",
       "      <td>0.000000</td>\n",
       "      <td>0.000000</td>\n",
       "    </tr>\n",
       "  </tbody>\n",
       "</table>\n",
       "</div>"
      ],
      "text/plain": [
       "acesso_internet_pela_tv       Sim        Não\n",
       "internet                                    \n",
       "Sim                      1.491117  98.508883\n",
       "Não                      0.000000   0.000000"
      ]
     },
     "execution_count": 73,
     "metadata": {},
     "output_type": "execute_result"
    }
   ],
   "source": [
    "#Mostra quem tem acesso à internet através da Tv dos que tem acesso à internet em casa na região Norte\n",
    "ct"
   ]
  },
  {
   "cell_type": "code",
   "execution_count": 74,
   "metadata": {
    "collapsed": false
   },
   "outputs": [
    {
     "data": {
      "text/html": [
       "<div>\n",
       "<table border=\"1\" class=\"dataframe\">\n",
       "  <thead>\n",
       "    <tr style=\"text-align: right;\">\n",
       "      <th>acesso_internet_pela_tv</th>\n",
       "      <th>Sim</th>\n",
       "      <th>Não</th>\n",
       "    </tr>\n",
       "    <tr>\n",
       "      <th>internet</th>\n",
       "      <th></th>\n",
       "      <th></th>\n",
       "    </tr>\n",
       "  </thead>\n",
       "  <tbody>\n",
       "    <tr>\n",
       "      <th>Sim</th>\n",
       "      <td>1.983891</td>\n",
       "      <td>98.016109</td>\n",
       "    </tr>\n",
       "    <tr>\n",
       "      <th>Não</th>\n",
       "      <td>0.000000</td>\n",
       "      <td>0.000000</td>\n",
       "    </tr>\n",
       "  </tbody>\n",
       "</table>\n",
       "</div>"
      ],
      "text/plain": [
       "acesso_internet_pela_tv       Sim        Não\n",
       "internet                                    \n",
       "Sim                      1.983891  98.016109\n",
       "Não                      0.000000   0.000000"
      ]
     },
     "execution_count": 74,
     "metadata": {},
     "output_type": "execute_result"
    }
   ],
   "source": [
    "#Mostra quem tem acesso à internet através da Tv dos que tem acesso à internet em casa na região Nordeste\n",
    "nt"
   ]
  },
  {
   "cell_type": "code",
   "execution_count": 75,
   "metadata": {
    "collapsed": false
   },
   "outputs": [
    {
     "data": {
      "text/html": [
       "<div>\n",
       "<table border=\"1\" class=\"dataframe\">\n",
       "  <thead>\n",
       "    <tr style=\"text-align: right;\">\n",
       "      <th>acesso_internet_pela_tv</th>\n",
       "      <th>Sim</th>\n",
       "      <th>Não</th>\n",
       "    </tr>\n",
       "    <tr>\n",
       "      <th>internet</th>\n",
       "      <th></th>\n",
       "      <th></th>\n",
       "    </tr>\n",
       "  </thead>\n",
       "  <tbody>\n",
       "    <tr>\n",
       "      <th>Sim</th>\n",
       "      <td>3.018818</td>\n",
       "      <td>96.981182</td>\n",
       "    </tr>\n",
       "    <tr>\n",
       "      <th>Não</th>\n",
       "      <td>0.000000</td>\n",
       "      <td>0.000000</td>\n",
       "    </tr>\n",
       "  </tbody>\n",
       "</table>\n",
       "</div>"
      ],
      "text/plain": [
       "acesso_internet_pela_tv       Sim        Não\n",
       "internet                                    \n",
       "Sim                      3.018818  96.981182\n",
       "Não                      0.000000   0.000000"
      ]
     },
     "execution_count": 75,
     "metadata": {},
     "output_type": "execute_result"
    }
   ],
   "source": [
    "#Mostra quem tem acesso à internet através da Tv dos que tem acesso à internet em casa na região Sul-Sudeste\n",
    "at"
   ]
  },
  {
   "cell_type": "code",
   "execution_count": 76,
   "metadata": {
    "collapsed": false
   },
   "outputs": [
    {
     "data": {
      "text/html": [
       "<div>\n",
       "<table border=\"1\" class=\"dataframe\">\n",
       "  <thead>\n",
       "    <tr style=\"text-align: right;\">\n",
       "      <th>acesso_internet_pela_tv</th>\n",
       "      <th>Sim</th>\n",
       "      <th>Não</th>\n",
       "    </tr>\n",
       "    <tr>\n",
       "      <th>internet</th>\n",
       "      <th></th>\n",
       "      <th></th>\n",
       "    </tr>\n",
       "  </thead>\n",
       "  <tbody>\n",
       "    <tr>\n",
       "      <th>Sim</th>\n",
       "      <td>3.901338</td>\n",
       "      <td>96.098662</td>\n",
       "    </tr>\n",
       "    <tr>\n",
       "      <th>Não</th>\n",
       "      <td>0.000000</td>\n",
       "      <td>0.000000</td>\n",
       "    </tr>\n",
       "  </tbody>\n",
       "</table>\n",
       "</div>"
      ],
      "text/plain": [
       "acesso_internet_pela_tv       Sim        Não\n",
       "internet                                    \n",
       "Sim                      3.901338  96.098662\n",
       "Não                      0.000000   0.000000"
      ]
     },
     "execution_count": 76,
     "metadata": {},
     "output_type": "execute_result"
    }
   ],
   "source": [
    "#Mostra quem tem acesso à internet através da Tv dos que tem acesso à internet em casa na região Norte\n",
    "gt"
   ]
  },
  {
   "cell_type": "code",
   "execution_count": 77,
   "metadata": {
    "collapsed": false
   },
   "outputs": [
    {
     "data": {
      "text/html": [
       "<div>\n",
       "<table border=\"1\" class=\"dataframe\">\n",
       "  <thead>\n",
       "    <tr style=\"text-align: right;\">\n",
       "      <th>tv_fina_em_casa</th>\n",
       "      <th>0.0</th>\n",
       "      <th>1.0</th>\n",
       "      <th>2.0</th>\n",
       "      <th>3.0</th>\n",
       "      <th>4.0</th>\n",
       "      <th>5.0</th>\n",
       "      <th>6.0</th>\n",
       "      <th>7.0</th>\n",
       "      <th>9.0</th>\n",
       "    </tr>\n",
       "    <tr>\n",
       "      <th>internet</th>\n",
       "      <th></th>\n",
       "      <th></th>\n",
       "      <th></th>\n",
       "      <th></th>\n",
       "      <th></th>\n",
       "      <th></th>\n",
       "      <th></th>\n",
       "      <th></th>\n",
       "      <th></th>\n",
       "    </tr>\n",
       "  </thead>\n",
       "  <tbody>\n",
       "    <tr>\n",
       "      <th>Sim</th>\n",
       "      <td>43.099619</td>\n",
       "      <td>38.118655</td>\n",
       "      <td>13.356599</td>\n",
       "      <td>3.902284</td>\n",
       "      <td>1.07868</td>\n",
       "      <td>0.317259</td>\n",
       "      <td>0.063452</td>\n",
       "      <td>0.047589</td>\n",
       "      <td>0.015863</td>\n",
       "    </tr>\n",
       "    <tr>\n",
       "      <th>Não</th>\n",
       "      <td>0.000000</td>\n",
       "      <td>0.000000</td>\n",
       "      <td>0.000000</td>\n",
       "      <td>0.000000</td>\n",
       "      <td>0.00000</td>\n",
       "      <td>0.000000</td>\n",
       "      <td>0.000000</td>\n",
       "      <td>0.000000</td>\n",
       "      <td>0.000000</td>\n",
       "    </tr>\n",
       "  </tbody>\n",
       "</table>\n",
       "</div>"
      ],
      "text/plain": [
       "tv_fina_em_casa        0.0        1.0        2.0       3.0      4.0       5.0  \\\n",
       "internet                                                                        \n",
       "Sim              43.099619  38.118655  13.356599  3.902284  1.07868  0.317259   \n",
       "Não               0.000000   0.000000   0.000000  0.000000  0.00000  0.000000   \n",
       "\n",
       "tv_fina_em_casa       6.0       7.0       9.0  \n",
       "internet                                       \n",
       "Sim              0.063452  0.047589  0.015863  \n",
       "Não              0.000000  0.000000  0.000000  "
      ]
     },
     "execution_count": 77,
     "metadata": {},
     "output_type": "execute_result"
    }
   ],
   "source": [
    "#Porcentagem do número de Tvs finas na casa da região Norte\n",
    "tv_norte = pd.crosstab(dadosnorte.internet, dadosnorte.tv_fina_em_casa, normalize = True)*100\n",
    "tv_norte"
   ]
  },
  {
   "cell_type": "code",
   "execution_count": 78,
   "metadata": {
    "collapsed": false
   },
   "outputs": [
    {
     "data": {
      "image/png": "[encoded data removed]",
      "text/plain": [
       "<matplotlib.figure.Figure at 0x1d00004bc50>"
      ]
     },
     "metadata": {},
     "output_type": "display_data"
    }
   ],
   "source": [
    "#Porcentagem do número de Tvs finas na casa da região Norte na forma de um gráfico\n",
    "tv_norteg = tv_norte.plot(kind='bar', color =('blue', 'red','black','green', 'yellow', 'pink', 'brown'), legend=True)\n",
    "tv_norteg.grid(True)"
   ]
  },
  {
   "cell_type": "code",
   "execution_count": 79,
   "metadata": {
    "collapsed": false
   },
   "outputs": [
    {
     "data": {
      "text/html": [
       "<div>\n",
       "<table border=\"1\" class=\"dataframe\">\n",
       "  <thead>\n",
       "    <tr style=\"text-align: right;\">\n",
       "      <th>tv_fina_em_casa</th>\n",
       "      <th>0.0</th>\n",
       "      <th>1.0</th>\n",
       "      <th>2.0</th>\n",
       "      <th>3.0</th>\n",
       "      <th>4.0</th>\n",
       "      <th>5.0</th>\n",
       "      <th>6.0</th>\n",
       "      <th>7.0</th>\n",
       "      <th>8.0</th>\n",
       "      <th>9.0</th>\n",
       "    </tr>\n",
       "    <tr>\n",
       "      <th>internet</th>\n",
       "      <th></th>\n",
       "      <th></th>\n",
       "      <th></th>\n",
       "      <th></th>\n",
       "      <th></th>\n",
       "      <th></th>\n",
       "      <th></th>\n",
       "      <th></th>\n",
       "      <th></th>\n",
       "      <th></th>\n",
       "    </tr>\n",
       "  </thead>\n",
       "  <tbody>\n",
       "    <tr>\n",
       "      <th>Sim</th>\n",
       "      <td>32.521504</td>\n",
       "      <td>43.008272</td>\n",
       "      <td>17.298883</td>\n",
       "      <td>5.467488</td>\n",
       "      <td>1.206209</td>\n",
       "      <td>0.385591</td>\n",
       "      <td>0.085687</td>\n",
       "      <td>0.016478</td>\n",
       "      <td>0.006591</td>\n",
       "      <td>0.003296</td>\n",
       "    </tr>\n",
       "    <tr>\n",
       "      <th>Não</th>\n",
       "      <td>0.000000</td>\n",
       "      <td>0.000000</td>\n",
       "      <td>0.000000</td>\n",
       "      <td>0.000000</td>\n",
       "      <td>0.000000</td>\n",
       "      <td>0.000000</td>\n",
       "      <td>0.000000</td>\n",
       "      <td>0.000000</td>\n",
       "      <td>0.000000</td>\n",
       "      <td>0.000000</td>\n",
       "    </tr>\n",
       "  </tbody>\n",
       "</table>\n",
       "</div>"
      ],
      "text/plain": [
       "tv_fina_em_casa        0.0        1.0        2.0       3.0       4.0  \\\n",
       "internet                                                               \n",
       "Sim              32.521504  43.008272  17.298883  5.467488  1.206209   \n",
       "Não               0.000000   0.000000   0.000000  0.000000  0.000000   \n",
       "\n",
       "tv_fina_em_casa       5.0       6.0       7.0       8.0       9.0  \n",
       "internet                                                           \n",
       "Sim              0.385591  0.085687  0.016478  0.006591  0.003296  \n",
       "Não              0.000000  0.000000  0.000000  0.000000  0.000000  "
      ]
     },
     "execution_count": 79,
     "metadata": {},
     "output_type": "execute_result"
    }
   ],
   "source": [
    "#Porcentagem do número de Tvs finas na casa da região Sul-Sudeste\n",
    "tv_sul_sudeste = pd.crosstab(dadossulsudeste.internet, dadossulsudeste.tv_fina_em_casa, normalize = True)*100\n",
    "tv_sul_sudeste"
   ]
  },
  {
   "cell_type": "code",
   "execution_count": 80,
   "metadata": {
    "collapsed": false
   },
   "outputs": [
    {
     "data": {
      "image/png": "[encoded data removed]",
      "text/plain": [
       "<matplotlib.figure.Figure at 0x1d0002b8940>"
      ]
     },
     "metadata": {},
     "output_type": "display_data"
    }
   ],
   "source": [
    "#Porcentagem do número de Tvs finas na casa da região Sul-Sudeste na forma de gráfico\n",
    "tv_sul_sudeste_g = tv_sul_sudeste.plot(kind='bar', color =('blue', 'red','black','green', 'yellow', 'pink', 'brown'), legend=True)\n",
    "tv_sul_sudeste_g.grid(True)"
   ]
  },
  {
   "cell_type": "code",
   "execution_count": 81,
   "metadata": {
    "collapsed": false
   },
   "outputs": [
    {
     "data": {
      "text/html": [
       "<div>\n",
       "<table border=\"1\" class=\"dataframe\">\n",
       "  <thead>\n",
       "    <tr style=\"text-align: right;\">\n",
       "      <th>tv_fina_em_casa</th>\n",
       "      <th>0.0</th>\n",
       "      <th>1.0</th>\n",
       "      <th>2.0</th>\n",
       "      <th>3.0</th>\n",
       "      <th>4.0</th>\n",
       "      <th>5.0</th>\n",
       "      <th>6.0</th>\n",
       "      <th>7.0</th>\n",
       "    </tr>\n",
       "    <tr>\n",
       "      <th>internet</th>\n",
       "      <th></th>\n",
       "      <th></th>\n",
       "      <th></th>\n",
       "      <th></th>\n",
       "      <th></th>\n",
       "      <th></th>\n",
       "      <th></th>\n",
       "      <th></th>\n",
       "    </tr>\n",
       "  </thead>\n",
       "  <tbody>\n",
       "    <tr>\n",
       "      <th>Sim</th>\n",
       "      <td>35.192649</td>\n",
       "      <td>43.075931</td>\n",
       "      <td>14.6542</td>\n",
       "      <td>4.900854</td>\n",
       "      <td>1.628244</td>\n",
       "      <td>0.38691</td>\n",
       "      <td>0.12897</td>\n",
       "      <td>0.032242</td>\n",
       "    </tr>\n",
       "    <tr>\n",
       "      <th>Não</th>\n",
       "      <td>0.000000</td>\n",
       "      <td>0.000000</td>\n",
       "      <td>0.0000</td>\n",
       "      <td>0.000000</td>\n",
       "      <td>0.000000</td>\n",
       "      <td>0.00000</td>\n",
       "      <td>0.00000</td>\n",
       "      <td>0.000000</td>\n",
       "    </tr>\n",
       "  </tbody>\n",
       "</table>\n",
       "</div>"
      ],
      "text/plain": [
       "tv_fina_em_casa        0.0        1.0      2.0       3.0       4.0      5.0  \\\n",
       "internet                                                                      \n",
       "Sim              35.192649  43.075931  14.6542  4.900854  1.628244  0.38691   \n",
       "Não               0.000000   0.000000   0.0000  0.000000  0.000000  0.00000   \n",
       "\n",
       "tv_fina_em_casa      6.0       7.0  \n",
       "internet                            \n",
       "Sim              0.12897  0.032242  \n",
       "Não              0.00000  0.000000  "
      ]
     },
     "execution_count": 81,
     "metadata": {},
     "output_type": "execute_result"
    }
   ],
   "source": [
    "#Porcentagem das residencias que tem um certo numero de tvs finas em casa na regiao Centro Oeste \n",
    "tv_centro_oeste = pd.crosstab(dados_centro_oeste.internet,dados_centro_oeste.tv_fina_em_casa, normalize =True)*100\n",
    "tv_centro_oeste"
   ]
  },
  {
   "cell_type": "code",
   "execution_count": 82,
   "metadata": {
    "collapsed": false
   },
   "outputs": [
    {
     "data": {
      "image/png": "[encoded data removed]",
      "text/plain": [
       "<matplotlib.figure.Figure at 0x1d0002f4748>"
      ]
     },
     "metadata": {},
     "output_type": "display_data"
    }
   ],
   "source": [
    "#Porcentagem das residencias que tem um certo numero de tvs finas em casa na regiao Centro Oeste em forma de grafico\n",
    "tv_centro_oeste_g = tv_centro_oeste.plot(kind='bar', color =('blue', 'red','black','green', 'yellow', 'pink', 'brown'), legend = True)\n",
    "tv_centro_oeste_g.grid(True)"
   ]
  },
  {
   "cell_type": "code",
   "execution_count": 83,
   "metadata": {
    "collapsed": false
   },
   "outputs": [
    {
     "data": {
      "text/html": [
       "<div>\n",
       "<table border=\"1\" class=\"dataframe\">\n",
       "  <thead>\n",
       "    <tr style=\"text-align: right;\">\n",
       "      <th>tv_fina_em_casa</th>\n",
       "      <th>0.0</th>\n",
       "      <th>1.0</th>\n",
       "      <th>2.0</th>\n",
       "      <th>3.0</th>\n",
       "      <th>4.0</th>\n",
       "      <th>5.0</th>\n",
       "      <th>6.0</th>\n",
       "      <th>7.0</th>\n",
       "      <th>8.0</th>\n",
       "    </tr>\n",
       "    <tr>\n",
       "      <th>internet</th>\n",
       "      <th></th>\n",
       "      <th></th>\n",
       "      <th></th>\n",
       "      <th></th>\n",
       "      <th></th>\n",
       "      <th></th>\n",
       "      <th></th>\n",
       "      <th></th>\n",
       "      <th></th>\n",
       "    </tr>\n",
       "  </thead>\n",
       "  <tbody>\n",
       "    <tr>\n",
       "      <th>Sim</th>\n",
       "      <td>39.228487</td>\n",
       "      <td>41.907588</td>\n",
       "      <td>13.073336</td>\n",
       "      <td>4.230606</td>\n",
       "      <td>1.127596</td>\n",
       "      <td>0.305214</td>\n",
       "      <td>0.084782</td>\n",
       "      <td>0.033913</td>\n",
       "      <td>0.008478</td>\n",
       "    </tr>\n",
       "    <tr>\n",
       "      <th>Não</th>\n",
       "      <td>0.000000</td>\n",
       "      <td>0.000000</td>\n",
       "      <td>0.000000</td>\n",
       "      <td>0.000000</td>\n",
       "      <td>0.000000</td>\n",
       "      <td>0.000000</td>\n",
       "      <td>0.000000</td>\n",
       "      <td>0.000000</td>\n",
       "      <td>0.000000</td>\n",
       "    </tr>\n",
       "  </tbody>\n",
       "</table>\n",
       "</div>"
      ],
      "text/plain": [
       "tv_fina_em_casa        0.0        1.0        2.0       3.0       4.0  \\\n",
       "internet                                                               \n",
       "Sim              39.228487  41.907588  13.073336  4.230606  1.127596   \n",
       "Não               0.000000   0.000000   0.000000  0.000000  0.000000   \n",
       "\n",
       "tv_fina_em_casa       5.0       6.0       7.0       8.0  \n",
       "internet                                                 \n",
       "Sim              0.305214  0.084782  0.033913  0.008478  \n",
       "Não              0.000000  0.000000  0.000000  0.000000  "
      ]
     },
     "execution_count": 83,
     "metadata": {},
     "output_type": "execute_result"
    }
   ],
   "source": [
    "#Porcentagem das residencias que tem um certo numero de tvs finas em casa na regiao nordeste \n",
    "tv_nordeste = pd.crosstab(dados_nordeste.internet,dados_nordeste.tv_fina_em_casa, normalize =True)*100\n",
    "tv_nordeste"
   ]
  },
  {
   "cell_type": "code",
   "execution_count": 84,
   "metadata": {
    "collapsed": false
   },
   "outputs": [
    {
     "data": {
      "image/png": "[encoded data removed]",
      "text/plain": [
       "<matplotlib.figure.Figure at 0x1d05d1efcc0>"
      ]
     },
     "metadata": {},
     "output_type": "display_data"
    }
   ],
   "source": [
    "#Porcentagem das residencias que tem um certo numero de tvs finas em casa na regiao nordeste em forma de grafico\n",
    "tv_nordeste_g = tv_nordeste.plot(kind='bar', color =('blue', 'red','black','green', 'yellow', 'pink', 'brown'), legend = True)\n",
    "tv_nordeste_g.grid(True)"
   ]
  },
  {
   "cell_type": "code",
   "execution_count": 90,
   "metadata": {
    "collapsed": true
   },
   "outputs": [],
   "source": [
    "tvs = dadosfinais[dadosfinais.tv_fina_em_casa < 6.0]"
   ]
  },
  {
   "cell_type": "code",
   "execution_count": 91,
   "metadata": {
    "collapsed": true
   },
   "outputs": [],
   "source": [
    "#len(tvs)"
   ]
  },
  {
   "cell_type": "code",
   "execution_count": 94,
   "metadata": {
    "collapsed": false
   },
   "outputs": [
    {
     "data": {
      "image/png": "[encoded data removed]",
      "text/plain": [
       "<matplotlib.figure.Figure at 0x1d00049ff98>"
      ]
     },
     "metadata": {},
     "output_type": "display_data"
    }
   ],
   "source": [
    "tv_hist = tvs.tv_fina_em_casa.plot(kind='hist', legend =True)\n",
    "tv_hist.grid(True)"
   ]
  },
  {
   "cell_type": "markdown",
   "metadata": {},
   "source": [
    "___\n",
    "## Conclusão "
   ]
  },
  {
   "cell_type": "code",
   "execution_count": null,
   "metadata": {
    "collapsed": true
   },
   "outputs": [],
   "source": []
  },
  {
   "cell_type": "markdown",
   "metadata": {
    "collapsed": true
   },
   "source": [
    "Descreva aqui suas conclusões!"
   ]
  },
  {
   "cell_type": "code",
   "execution_count": 89,
   "metadata": {
    "collapsed": false
   },
   "outputs": [
    {
     "name": "stdout",
     "output_type": "stream",
     "text": [
      "De todas as regiões do Brasil, a única na qual a maioria das casas que possuem internet não tem nenhuma Tv fina é a região Norte, o que é surpreendente, pois grande parte da população acredita que a região Nordeste esteja numa situação pior do que a norte, o que no caso das Tvs não se aplica.\n",
      "Outra surpresa é que a região que tem a maior porcentagem de casas que tem acesso à internet através da tv é justamente a região Norte, seguida pela região Sul-Sudeste\n"
     ]
    }
   ],
   "source": [
    "print(\"De todas as regiões do Brasil, a única na qual a maioria das casas que possuem internet não tem nenhuma Tv fina é a região Norte, o que é surpreendente, pois grande parte da população acredita que a região Nordeste esteja numa situação pior do que a norte, o que no caso das Tvs não se aplica.\")\n",
    "print('Outra surpresa é que a região que tem a maior porcentagem de casas que tem acesso à internet através da tv é justamente a região Norte, seguida pela região Sul-Sudeste')"
   ]
  },
  {
   "cell_type": "code",
   "execution_count": null,
   "metadata": {
    "collapsed": true
   },
   "outputs": [],
   "source": []
  }
 ],
 "metadata": {
  "anaconda-cloud": {},
  "kernelspec": {
   "display_name": "Python 3",
   "language": "python",
   "name": "python3"
  },
  "language_info": {
   "codemirror_mode": {
    "name": "ipython",
    "version": 3
   },
   "file_extension": ".py",
   "mimetype": "text/x-python",
   "name": "python",
   "nbconvert_exporter": "python",
   "pygments_lexer": "ipython3",
   "version": "3.6.0"
  }
 },
 "nbformat": 4,
 "nbformat_minor": 1
}
