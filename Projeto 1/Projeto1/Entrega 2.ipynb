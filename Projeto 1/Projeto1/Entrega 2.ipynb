{
 "cells": [
  {
   "cell_type": "code",
   "execution_count": null,
   "metadata": {
    "collapsed": true
   },
   "outputs": [],
   "source": [
    "#Analisei os dados de 2013 para comparar o acesso à internet e acesso à internet através da televisão nas regiões do Brasil em 2013, e descobrir a porcentagem de Tvs finas que existem nas casas nas diferentes regiões"
   ]
  },
  {
   "cell_type": "code",
   "execution_count": 142,
   "metadata": {
    "collapsed": true
   },
   "outputs": [],
   "source": [
    "%matplotlib inline\n",
    "import pandas as pd\n",
    "import matplotlib.pyplot as plt\n",
    "import numpy as np\n",
    "import os\n",
    "%matplotlib inline\n",
    "import matplotlib.pyplot as plt\n",
    "import matplotlib\n",
    "matplotlib.style.use('ggplot')"
   ]
  },
  {
   "cell_type": "code",
   "execution_count": 143,
   "metadata": {
    "collapsed": false
   },
   "outputs": [
    {
     "name": "stdout",
     "output_type": "stream",
     "text": [
      "Esperamos trabalhar no diretório\n",
      "C:\\Users\\Luca\\Insper\\2° semestre\\Ciencia dos dados\\CD_2017_2_Luca_Nascimento\\Projeto 1\\Projeto1\n"
     ]
    }
   ],
   "source": [
    "print('Esperamos trabalhar no diretório')\n",
    "print(os.getcwd())"
   ]
  },
  {
   "cell_type": "code",
   "execution_count": 144,
   "metadata": {
    "collapsed": false
   },
   "outputs": [],
   "source": [
    "dados = pd.read_csv('DOM2013.csv',sep=',')\n",
    "#dados"
   ]
  },
  {
   "cell_type": "code",
   "execution_count": 145,
   "metadata": {
    "collapsed": false
   },
   "outputs": [],
   "source": [
    "#dados.rename(columns={\"V0101\": \"TRESTE\"})"
   ]
  },
  {
   "cell_type": "code",
   "execution_count": 146,
   "metadata": {
    "collapsed": false
   },
   "outputs": [],
   "source": [
    "dadosfinais = pd.DataFrame({\"tv_fina_em_casa\":dados['V02270'],\n",
    "                           \"tv_por_assinatura\":dados['V02272'],\n",
    "                          'internet': dados['V02322'],\n",
    "                         \"acesso_internet_pela_tv\": dados['V02326'],\n",
    "                           'domicilio': dados['V0201'],\n",
    "                           'regiao': dados['UF']})\n",
    "#dadosfinais"
   ]
  },
  {
   "cell_type": "code",
   "execution_count": 147,
   "metadata": {
    "collapsed": false
   },
   "outputs": [],
   "source": [
    "#dadosfinais[\"acesso a internet pela tv\"] =  dadosfinais[\"acesso a internet pela tv\"].astype('category')\n",
    "#dadosfinais[\"acesso a internet pela tv\"].cat.categories = ([\"Sim\", \"Não\"])\n",
    "dadosfinais.acesso_internet_pela_tv = dadosfinais.acesso_internet_pela_tv.astype('category')\n",
    "dadosfinais.acesso_internet_pela_tv.cat.categories = (['Sim','Não'])\n",
    "dadosfinais.internet = dadosfinais.internet.astype('category')\n",
    "dadosfinais.internet.cat.categories = (['Sim','Não'])\n",
    "dadosfinais.domicilio = dadosfinais.domicilio.astype('category')\n",
    "dadosfinais.domicilio.cat.categories = (['particular permanente','particular improvisado', 'coletivo'])\n",
    "dadosfinais.tv_por_assinatura = dadosfinais.tv_por_assinatura.astype('category')\n",
    "dadosfinais.tv_por_assinatura.cat.categories = (['Sim','Não'])\n",
    "#dadosfinais.regiao = dadosfinais.regiao.astype('float64')\n",
    "#dadosfinais.regiao.cat.category = (['Rondônia','Acre', 'Amazonas', 'Roraima', 'Pará','Amapá', 'Tocantins', 'Maranhão', 'Piauí', 'Ceará', 'Rio Grande do Norte', 'Paraíba', 'Pernambuco', 'Alagoas', 'Sergipe', 'Bahia', 'Minas Gerais', 'Espírito Santo', 'Rio de Janeiro', 'São Paulo', 'Paraná', 'Santa Catarina', 'Rio Grande do Sul', 'Mato Grosso do Sul', 'Mato Grosso', 'Goiás', 'Distríto Federal'])\n",
    "#dadosfinais"
   ]
  },
  {
   "cell_type": "code",
   "execution_count": 148,
   "metadata": {
    "collapsed": false
   },
   "outputs": [],
   "source": [
    "dadosfinais = dadosfinais[(dadosfinais.domicilio == 'particular permanente')]\n",
    "#dadosfinais"
   ]
  },
  {
   "cell_type": "code",
   "execution_count": 149,
   "metadata": {
    "collapsed": false
   },
   "outputs": [],
   "source": [
    "dadosfinais = dadosfinais[pd.notnull(dadosfinais.domicilio) &\\\n",
    "                          pd.notnull(dadosfinais.internet) &\\\n",
    "                          pd.notnull(dadosfinais.acesso_internet_pela_tv) &\\\n",
    "                          pd.notnull(dadosfinais.tv_fina_em_casa) &\\\n",
    "                          pd.notnull(dadosfinais.tv_por_assinatura)]\n",
    "#dadosfinais"
   ]
  },
  {
   "cell_type": "code",
   "execution_count": 150,
   "metadata": {
    "collapsed": false
   },
   "outputs": [],
   "source": [
    "dadosnorte = dadosfinais[(dadosfinais.regiao == 11.0) | (dadosfinais.regiao == 12.0) | (dadosfinais.regiao == 13.0) | (dadosfinais.regiao == 14.0) | (dadosfinais.regiao == 15.0) | (dadosfinais.regiao == 16.0) | (dadosfinais.regiao == 17.0) ]\n",
    "#dadosnorte"
   ]
  },
  {
   "cell_type": "code",
   "execution_count": 151,
   "metadata": {
    "collapsed": false
   },
   "outputs": [],
   "source": [
    "dadossulsudeste = dadosfinais[(dadosfinais.regiao == 31.0) | (dadosfinais.regiao == 32.0) | (dadosfinais.regiao == 33.0) | (dadosfinais.regiao == 35.0) | (dadosfinais.regiao == 41.0) | (dadosfinais.regiao == 42.0) | (dadosfinais.regiao == 43.0)]\n",
    "#dadossulsudeste"
   ]
  },
  {
   "cell_type": "code",
   "execution_count": 152,
   "metadata": {
    "collapsed": false
   },
   "outputs": [],
   "source": [
    "dados_centro_oeste = dadosfinais[(dadosfinais.regiao == 50.0) | (dadosfinais.regiao == 51.0) | (dadosfinais.regiao == 52.0) | (dadosfinais.regiao == 53.0)]\n",
    "#dados_centro_oeste"
   ]
  },
  {
   "cell_type": "code",
   "execution_count": 153,
   "metadata": {
    "collapsed": false
   },
   "outputs": [],
   "source": [
    "dados_nordeste = dadosfinais[(dadosfinais.regiao == 21.0) | (dadosfinais.regiao == 22.0) | (dadosfinais.regiao == 23.0) | (dadosfinais.regiao == 24.0) | (dadosfinais.regiao == 25.0) | (dadosfinais.regiao == 26.0) | (dadosfinais.regiao == 27.0) | (dadosfinais.regiao == 28.0) | (dadosfinais.regiao == 29.0)]\n",
    "#dados_nordeste"
   ]
  },
  {
   "cell_type": "code",
   "execution_count": 154,
   "metadata": {
    "collapsed": false
   },
   "outputs": [],
   "source": [
    "#Mostra quem tem acesso à internet através da Tv dos que tem acesso à internet em casa na região Nordeste na forma de Gráfico\n",
    "nt = pd.crosstab(dados_nordeste.internet, dados_nordeste.acesso_internet_pela_tv, normalize = True)*100\n",
    "#grant = nt.plot(kind='bar', color =('blue', 'red','black','green'), legend=True)\n",
    "#grant.grid(True)"
   ]
  },
  {
   "cell_type": "code",
   "execution_count": 155,
   "metadata": {
    "collapsed": false
   },
   "outputs": [],
   "source": [
    "#Mostra quem tem acesso à internet através da Tv dos que tem acesso à internet em casa na região Centro Oeste na forma de gráfico\n",
    "gt = pd.crosstab(dados_centro_oeste.internet, dados_centro_oeste.acesso_internet_pela_tv, normalize = True)*100\n",
    "#grag = gt.plot(kind='bar', color =('blue', 'red','black','green'), legend=True)\n",
    "#grag.grid(True)"
   ]
  },
  {
   "cell_type": "code",
   "execution_count": 156,
   "metadata": {
    "collapsed": false
   },
   "outputs": [],
   "source": [
    "#Mostra quem tem acesso à internet através da Tv dos que tem acesso à internet em casa na região Norte na forma de gráfico\n",
    "ct = pd.crosstab(dadosnorte.internet, dadosnorte.acesso_internet_pela_tv, normalize = True)*100\n",
    "#gra = ct.plot(kind='bar', color =('blue', 'red','black','green'), legend=True)\n",
    "#gra.grid(True)"
   ]
  },
  {
   "cell_type": "code",
   "execution_count": 157,
   "metadata": {
    "collapsed": false
   },
   "outputs": [],
   "source": [
    "#Mostra quem tem acesso à internet através da Tv dos que tem acesso à internet em casa na região Sul-Sudeste na forma de gráfico\n",
    "at = pd.crosstab(dadossulsudeste.internet, dadossulsudeste.acesso_internet_pela_tv, normalize = True)*100\n",
    "#graf = at.plot(kind='bar', color =('blue', 'red','black','green'), legend=True)\n",
    "#graf.grid(True)"
   ]
  },
  {
   "cell_type": "code",
   "execution_count": 158,
   "metadata": {
    "collapsed": false
   },
   "outputs": [],
   "source": [
    "#Mostra quem tem acesso à internet através da Tv dos que tem acesso à internet em casa na região Norte\n",
    "#ct"
   ]
  },
  {
   "cell_type": "code",
   "execution_count": 159,
   "metadata": {
    "collapsed": true
   },
   "outputs": [],
   "source": [
    "#Mostra quem tem acesso à internet através da Tv dos que tem acesso à internet em casa na região Nordeste\n",
    "#nt"
   ]
  },
  {
   "cell_type": "code",
   "execution_count": 160,
   "metadata": {
    "collapsed": false
   },
   "outputs": [],
   "source": [
    "#Mostra quem tem acesso à internet através da Tv dos que tem acesso à internet em casa na região Sul-Sudeste\n",
    "#at\n"
   ]
  },
  {
   "cell_type": "code",
   "execution_count": 161,
   "metadata": {
    "collapsed": true
   },
   "outputs": [],
   "source": [
    "#Mostra quem tem acesso à internet através da Tv dos que tem acesso à internet em casa na região Norte\n",
    "#gt"
   ]
  },
  {
   "cell_type": "code",
   "execution_count": 162,
   "metadata": {
    "collapsed": false
   },
   "outputs": [],
   "source": [
    "#Porcentagem do número de Tvs finas na casa da região Norte\n",
    "tv_norte = pd.crosstab(dadosnorte.internet, dadosnorte.tv_fina_em_casa, normalize = True)*100\n",
    "#tv_norte"
   ]
  },
  {
   "cell_type": "code",
   "execution_count": 163,
   "metadata": {
    "collapsed": false
   },
   "outputs": [
    {
     "data": {
      "image/png": "[encoded data removed]",
      "text/plain": [
       "<matplotlib.figure.Figure at 0x2398d34a320>"
      ]
     },
     "metadata": {},
     "output_type": "display_data"
    }
   ],
   "source": [
    "#Porcentagem do número de Tvs finas na casa da região Norte na forma de um gráfico\n",
    "tv_norteg = tv_norte.plot(kind='bar', color =('blue', 'red','black','green', 'yellow', 'pink', 'brown'), legend=True)\n"
   ]
  },
  {
   "cell_type": "code",
   "execution_count": 164,
   "metadata": {
    "collapsed": false
   },
   "outputs": [],
   "source": [
    "#Porcentagem do número de Tvs finas na casa da região Sul-Sudeste\n",
    "tv_sul_sudeste = pd.crosstab(dadossulsudeste.internet, dadossulsudeste.tv_fina_em_casa, normalize = True)*100\n",
    "#tv_sul_sudeste"
   ]
  },
  {
   "cell_type": "code",
   "execution_count": 165,
   "metadata": {
    "collapsed": false
   },
   "outputs": [
    {
     "data": {
      "image/png": "[encoded data removed]",
      "text/plain": [
       "<matplotlib.figure.Figure at 0x2398d5010b8>"
      ]
     },
     "metadata": {},
     "output_type": "display_data"
    }
   ],
   "source": [
    "#Porcentagem do número de Tvs finas na casa da região Sul-Sudeste na forma de gráfico\n",
    "tv_sul_sudeste_g = tv_sul_sudeste.plot(kind='bar', color =('blue', 'red','black','green', 'yellow', 'pink', 'brown'), legend=True)\n",
    "#tv_sul_sudeste_g"
   ]
  },
  {
   "cell_type": "code",
   "execution_count": 173,
   "metadata": {
    "collapsed": false
   },
   "outputs": [],
   "source": [
    "#Porcentagem das residencias que tem um certo numero de tvs finas em casa na regiao Centro Oeste \n",
    "tv_centro_oeste = pd.crosstab(dados_centro_oeste.internet,dados_centro_oeste.tv_fina_em_casa, normalize =True)*100\n",
    "#tv_centro_oeste"
   ]
  },
  {
   "cell_type": "code",
   "execution_count": 174,
   "metadata": {
    "collapsed": false
   },
   "outputs": [
    {
     "data": {
      "image/png": "[encoded data removed]",
      "text/plain": [
       "<matplotlib.figure.Figure at 0x2398dca36d8>"
      ]
     },
     "metadata": {},
     "output_type": "display_data"
    }
   ],
   "source": [
    "#Porcentagem das residencias que tem um certo numero de tvs finas em casa na regiao Centro Oeste em forma de grafico\n",
    "tv_centro_oeste_g = tv_centro_oeste.plot(kind='bar', color =('blue', 'red','black','green', 'yellow', 'pink', 'brown'), legend = True)                                    "
   ]
  },
  {
   "cell_type": "code",
   "execution_count": 170,
   "metadata": {
    "collapsed": false
   },
   "outputs": [],
   "source": [
    "#Porcentagem das residencias que tem um certo numero de tvs finas em casa na regiao nordeste \n",
    "tv_nordeste = pd.crosstab(dados_nordeste.internet,dados_nordeste.tv_fina_em_casa, normalize =True)*100\n",
    "#tv_nordeste"
   ]
  },
  {
   "cell_type": "code",
   "execution_count": 171,
   "metadata": {
    "collapsed": false
   },
   "outputs": [
    {
     "data": {
      "image/png": "[encoded data removed]",
      "text/plain": [
       "<matplotlib.figure.Figure at 0x2398dc9bf98>"
      ]
     },
     "metadata": {},
     "output_type": "display_data"
    }
   ],
   "source": [
    "#Porcentagem das residencias que tem um certo numero de tvs finas em casa na regiao nordeste em forma de grafico\n",
    "tv_nordeste_g = tv_nordeste.plot(kind='bar', color =('blue', 'red','black','green', 'yellow', 'pink', 'brown'), legend = True)"
   ]
  },
  {
   "cell_type": "code",
   "execution_count": 187,
   "metadata": {
    "collapsed": true
   },
   "outputs": [],
   "source": [
    "tvs = dadosfinais[dadosfinais.tv_fina_em_casa < 6.0]"
   ]
  },
  {
   "cell_type": "code",
   "execution_count": 188,
   "metadata": {
    "collapsed": false
   },
   "outputs": [
    {
     "data": {
      "text/plain": [
       "54578"
      ]
     },
     "execution_count": 188,
     "metadata": {},
     "output_type": "execute_result"
    }
   ],
   "source": [
    "len(tvs)"
   ]
  },
  {
   "cell_type": "code",
   "execution_count": 195,
   "metadata": {
    "collapsed": false
   },
   "outputs": [
    {
     "data": {
      "image/png": "[encoded data removed]",
      "text/plain": [
       "<matplotlib.figure.Figure at 0x2398e05b8d0>"
      ]
     },
     "metadata": {},
     "output_type": "display_data"
    }
   ],
   "source": [
    "tvs_his = tvs.tv_fina_em_casa.plot(kind='hist', legend = True)"
   ]
  },
  {
   "cell_type": "code",
   "execution_count": null,
   "metadata": {
    "collapsed": false
   },
   "outputs": [],
   "source": []
  },
  {
   "cell_type": "code",
   "execution_count": null,
   "metadata": {
    "collapsed": true
   },
   "outputs": [],
   "source": []
  }
 ],
 "metadata": {
  "kernelspec": {
   "display_name": "Python 3",
   "language": "python",
   "name": "python3"
  },
  "language_info": {
   "codemirror_mode": {
    "name": "ipython",
    "version": 3
   },
   "file_extension": ".py",
   "mimetype": "text/x-python",
   "name": "python",
   "nbconvert_exporter": "python",
   "pygments_lexer": "ipython3",
   "version": "3.6.0"
  }
 },
 "nbformat": 4,
 "nbformat_minor": 2
}
